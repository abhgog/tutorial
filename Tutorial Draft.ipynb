{
 "cells": [
  {
   "cell_type": "markdown",
   "metadata": {},
   "source": [
    "# Tutorial: Practical Uses for Random Forests (using SciKit Learn)\n",
    "\n",
    "### Introduction\n",
    "\n",
    "This tutorial is intended as an introduction to random forests, which are an essential part of machine learning algorithms and regression. The tutorial will introduce random forests through practical examples, such as predicting results of **binary variables**, such as whether or not an NFL team should go for two points or kick one, or predicting results of **quantitative variables**, such as with what probability will an NFL team win a game given win history.\n",
    "\n",
    "After this, the tutorial will go into a brief discussion about the pros and cons of using a random forest.\n",
    "\n",
    "Note: The tutorial makes heavy use of the scikit-learn library (http://scikit-learn.org) - no prior experience is required though. It also makes use of the pandas and numpy libraries as well."
   ]
  },
  {
   "cell_type": "code",
   "execution_count": 1,
   "metadata": {
    "collapsed": false
   },
   "outputs": [],
   "source": [
    "import sklearn\n",
    "import pandas as pd\n",
    "import numpy as np\n",
    "from sklearn.ensemble import RandomForestClassifier "
   ]
  },
  {
   "cell_type": "markdown",
   "metadata": {},
   "source": [
    "### Data Processing: Filtering Data and Setting up Variables\n",
    "\n",
    "Our first data set is a set of all plays called throughout the 2012 NFL season (Go 49ers!!) - every single play is accounted for in this data set. Load the data set as follows."
   ]
  },
  {
   "cell_type": "code",
   "execution_count": 2,
   "metadata": {
    "collapsed": false
   },
   "outputs": [],
   "source": [
    "nfl_stats = pd.read_csv(\"2012_nfl_pbp_data.csv\")"
   ]
  },
  {
   "cell_type": "markdown",
   "metadata": {},
   "source": [
    "Verify that the dataframe has been loaded into nfl_stats by making the following calls:"
   ]
  },
  {
   "cell_type": "code",
   "execution_count": 3,
   "metadata": {
    "collapsed": false
   },
   "outputs": [
    {
     "name": "stdout",
     "output_type": "stream",
     "text": [
      "Index([u'gameid', u'qtr', u'min', u'sec', u'off', u'def', u'down', u'togo',\n",
      "       u'ydline', u'description', u'offscore', u'defscore', u'season'],\n",
      "      dtype='object')\n",
      "             gameid  qtr   min sec  off  def  down  togo  ydline  \\\n",
      "0  20120905_DAL@NYG    1   NaN   0  DAL  NYG   NaN   NaN     NaN   \n",
      "1  20120905_DAL@NYG    1  59.0  56  NYG  DAL   1.0  10.0    84.0   \n",
      "2  20120905_DAL@NYG    1  59.0  49  NYG  DAL   2.0  10.0    84.0   \n",
      "3  20120905_DAL@NYG    1  59.0   5  NYG  DAL   3.0   5.0    79.0   \n",
      "4  20120905_DAL@NYG    1  58.0  58  NYG  DAL   4.0   5.0    79.0   \n",
      "\n",
      "                                         description  offscore  defscore  \\\n",
      "0  D.Bailey kicks 69 yards from DAL 35 to NYG -4....         0         0   \n",
      "1  (14:56) E.Manning pass incomplete deep left to...         0         0   \n",
      "2  (14:49) E.Manning pass short middle to V.Cruz ...         0         0   \n",
      "3  (14:05) (Shotgun) E.Manning pass incomplete sh...         0         0   \n",
      "4  (13:58) S.Weatherford punts 56 yards to DAL 23...         0         0   \n",
      "\n",
      "   season  \n",
      "0    2012  \n",
      "1    2012  \n",
      "2    2012  \n",
      "3    2012  \n",
      "4    2012  \n"
     ]
    }
   ],
   "source": [
    "print nfl_stats.columns\n",
    "print nfl_stats.head()"
   ]
  },
  {
   "cell_type": "markdown",
   "metadata": {},
   "source": [
    "As you can see, there are various columns regarding different aspects of the game. In this case, though, we only need to concern ourselves with extra points and two point conversions. So, we need to filter our dataframe by the **description** column. In addition, we drop unnecessary columns like togo, since yards to go doesn't really make sense when attempting an extra point or going for a two point conversion. It would make sense to drop \"season\" as well, as we are working under the assumption that all data is from 2012.\n",
    "\n",
    "Finally, for any classification algorithm, an important variable is to have is a boolean variable indicating success or failure. For each data frame, we will include such a variable which is marked zero if the try was successful, and one if the try was not successful."
   ]
  },
  {
   "cell_type": "code",
   "execution_count": 4,
   "metadata": {
    "collapsed": false
   },
   "outputs": [
    {
     "name": "stdout",
     "output_type": "stream",
     "text": [
      "     def  defscore                                        description  \\\n",
      "65   NYG       3.0  D.Bailey extra point is GOOD Center-L.Ladouceu...   \n",
      "80   NYG       3.0  D.Bailey extra point is GOOD Center-L.Ladouceu...   \n",
      "91   DAL      14.0  L.Tynes extra point is GOOD Center-Z.DeOssie H...   \n",
      "123  NYG      10.0  D.Bailey extra point is GOOD Center-L.Ladouceu...   \n",
      "137  DAL      24.0  L.Tynes extra point is GOOD Center-Z.DeOssie H...   \n",
      "\n",
      "               gameid   min  off  offscore  qtr sec  ydline  success  \n",
      "65   20120905_DAL@NYG  31.0  DAL       0.0  2.0   7    10.0      1.0  \n",
      "80   20120905_DAL@NYG  25.0  DAL       7.0  3.0  32    40.0      1.0  \n",
      "91   20120905_DAL@NYG  20.0  NYG       3.0  3.0  19    10.0      1.0  \n",
      "123  20120905_DAL@NYG   6.0  DAL      17.0  4.0  12    34.0      1.0  \n",
      "137  20120905_DAL@NYG   2.0  NYG      10.0  4.0  42     9.0      1.0  \n",
      "      def  defscore                                        description  \\\n",
      "1139  MIN      20.0  TWO-POINT CONVERSION ATTEMPT. B.Gabbert pass t...   \n",
      "1314  WAS      33.0  TWO-POINT CONVERSION ATTEMPT. D.Sproles rushes...   \n",
      "1978   SF      23.0  TWO-POINT CONVERSION ATTEMPT. A.Rodgers pass t...   \n",
      "2280  DEN      14.0  TWO-POINT CONVERSION ATTEMPT. B.Roethlisberger...   \n",
      "2292  PIT      19.0  TWO-POINT CONVERSION ATTEMPT. P.Manning pass t...   \n",
      "\n",
      "                gameid   min  off  offscore  qtr sec  ydline  success  \n",
      "1139  20120909_JAC@MIN   0.0  JAC      15.0  4.0  27    39.0      NaN  \n",
      "1314   20120909_WAS@NO   6.0   NO      17.0  4.0  25    33.0      NaN  \n",
      "1978    20120909_SF@GB  11.0   GB       7.0  4.0  35    86.0      NaN  \n",
      "2280  20120909_PIT@DEN  14.0  PIT      13.0  4.0  15     3.0      NaN  \n",
      "2292  20120909_PIT@DEN   9.0  DEN      14.0  4.0  28     1.0      NaN  \n",
      "1316\n",
      "59\n"
     ]
    }
   ],
   "source": [
    "'''This function gets all entries in the dataframe that pertain to extra points'''\n",
    "\n",
    "def getExtraPoints(df):\n",
    "    newDf = pd.DataFrame()\n",
    "    success = []\n",
    "    for tup in df.iterrows():\n",
    "        row = tup[1]\n",
    "        if(\"extra point\" in row[\"description\"]):\n",
    "            newDf = newDf.append(row)\n",
    "    newDf.drop(\"down\", axis = 1, inplace = True)\n",
    "    newDf.drop(\"togo\", axis = 1, inplace = True)\n",
    "    newDf.drop(\"season\", axis = 1, inplace = True)\n",
    "    \n",
    "    for tup in newDf.iterrows():\n",
    "        row = tup[1]\n",
    "        if(\"extra point is GOOD\" in row['description']):\n",
    "            success.append(1)\n",
    "        else:\n",
    "            success.append(0)\n",
    "    res = pd.Series(success)\n",
    "    newDf = newDf.assign(success = res)\n",
    "    return newDf\n",
    "\n",
    "def getTwoPointConv(df):\n",
    "    newDf = pd.DataFrame()\n",
    "    success = []\n",
    "    for tup in df.iterrows():\n",
    "        row = tup[1]\n",
    "        if(\"CONVERSION\" in row['description']):\n",
    "            newDf = newDf.append(row)\n",
    "    newDf.drop(\"down\", axis = 1, inplace = True)\n",
    "    newDf.drop(\"togo\", axis = 1, inplace = True)\n",
    "    newDf.drop(\"season\", axis = 1, inplace = True)\n",
    "\n",
    "    \n",
    "    for tup in newDf.iterrows():\n",
    "        row = tup[1]\n",
    "        if(\"ATTEMPT SUCCEEDS\" in row['description']):\n",
    "            success.append(1)\n",
    "        else:\n",
    "            success.append(0)\n",
    "    res = pd.Series(success)\n",
    "    newDf = newDf.assign(success = res)\n",
    "    return newDf\n",
    "\n",
    "one_point = getExtraPoints(nfl_stats)\n",
    "two_point = getTwoPointConv(nfl_stats)\n",
    "print one_point.head()\n",
    "print two_point.head()\n",
    "print len(one_point)\n",
    "print len(two_point)"
   ]
  },
  {
   "cell_type": "markdown",
   "metadata": {},
   "source": [
    "Our filtered sets now contains all the extra points - 1 point attempts, and 2 point attempts, and an indicator variable telling us whether or not that given try was a success. With this classification variable, we are now ready to move on the random forest part of the tutorial."
   ]
  },
  {
   "cell_type": "markdown",
   "metadata": {},
   "source": [
    "### Random Forests\n",
    "\n",
    "For some background on random forests (and a lot of information about how they work), check out the page: http://www.stat.berkeley.edu/~breiman/RandomForests/cc_home.htm \n",
    "\n",
    "Simply put, a random forest is a collection of multiple decision trees (hence, forest), and it is used to make predictions about a data set, by training a classifier with a training set (in our case, that is the 2012 data above). We are going to use random forests on the **success** variable we defined above - we will use 2012 data as a training set (since we have defined success metric already for that data set), and then the 2013 data as a test set, and then see whether or not # of successful two point conversions matches that of the actual 2013 data set."
   ]
  },
  {
   "cell_type": "code",
   "execution_count": null,
   "metadata": {
    "collapsed": true
   },
   "outputs": [],
   "source": []
  }
 ],
 "metadata": {
  "anaconda-cloud": {},
  "kernelspec": {
   "display_name": "Python [Root]",
   "language": "python",
   "name": "Python [Root]"
  },
  "language_info": {
   "codemirror_mode": {
    "name": "ipython",
    "version": 2
   },
   "file_extension": ".py",
   "mimetype": "text/x-python",
   "name": "python",
   "nbconvert_exporter": "python",
   "pygments_lexer": "ipython2",
   "version": "2.7.12"
  }
 },
 "nbformat": 4,
 "nbformat_minor": 0
}
